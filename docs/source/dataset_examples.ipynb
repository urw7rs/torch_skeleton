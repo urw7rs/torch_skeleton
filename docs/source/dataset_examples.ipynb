{
 "cells": [
  {
   "cell_type": "markdown",
   "id": "169f3f60-8c9a-4e90-8745-3633c584aced",
   "metadata": {},
   "source": [
    "# Downloading and Preprocessing Datasets"
   ]
  },
  {
   "cell_type": "markdown",
   "id": "e8e847fb-fac9-442f-a43f-368282fe5a88",
   "metadata": {},
   "source": [
    "## Import necesary modules"
   ]
  },
  {
   "cell_type": "code",
   "execution_count": 2,
   "id": "0a917f3e-c118-474d-9f77-831146ac6142",
   "metadata": {},
   "outputs": [],
   "source": [
    "from tqdm.notebook import tqdm\n",
    "\n",
    "import os\n",
    "\n",
    "from torch_skeleton.datasets import UCLA, Apply, DiskCache\n",
    "import torch_skeleton.transforms as T"
   ]
  },
  {
   "cell_type": "markdown",
   "id": "af780d14-1ca4-46a1-9b21-6ef6f5957a60",
   "metadata": {},
   "source": [
    "## Download and Preprocess Dataset"
   ]
  },
  {
   "cell_type": "code",
   "execution_count": 10,
   "id": "1202e465-58d7-427f-b4e8-cac21c7bc7aa",
   "metadata": {},
   "outputs": [
    {
     "name": "stdout",
     "output_type": "stream",
     "text": [
      "all_sqe.zip exists, skipping download\n",
      "['a12_s06_e03_v03.json', 'a12_s06_e02_v03.json', 'a08_s08_e03_v01.json', 'a01_s05_e02_v02.json', 'a04_s07_e04_v01.json']\n",
      "all_sqe.zip exists, skipping download\n",
      "returns x with M=1, T=17, V=20, C=3 (1, 17, 20, 3)\n",
      "all_sqe.zip exists, skipping download\n"
     ]
    }
   ],
   "source": [
    "preprocess = T.Compose(\n",
    "    [\n",
    "        T.CenterJoint(joint_id=1, all=False),\n",
    "        T.ParallelBone(first_id=0, second_id=1, axis=2),\n",
    "        T.ParallelBone(first_id=8, second_id=4, axis=0),\n",
    "    ]\n",
    ")\n",
    "\n",
    "dataset = UCLA(\n",
    "    root=\"data\",\n",
    "    transform=preprocess\n",
    ")\n",
    "\n",
    "print(os.listdir(\"data/NW-UCLA/all_sqe\")[:5])\n",
    "\n",
    "# apply preprocessing at creation\n",
    "dataset = UCLA(\n",
    "    root=\"data\",\n",
    "    transform=preprocess\n",
    ")\n",
    "\n",
    "x, y = dataset[0]\n",
    "print(f\"returns x with M=1, T=17, V=20, C=3 {x.shape}\")\n",
    "\n",
    "# or apply them after creation\n",
    "dataset = UCLA(root=\"data\")\n",
    "dataset = Apply(dataset, transform=preprocess)"
   ]
  },
  {
   "cell_type": "markdown",
   "id": "7e72d103-affc-4ce7-943d-70975888d0b1",
   "metadata": {},
   "source": [
    "## Cache Preprocessed Dataset to Disk"
   ]
  },
  {
   "cell_type": "code",
   "execution_count": null,
   "id": "b866cff8-d8ab-4f18-8929-fe7579f57b65",
   "metadata": {},
   "outputs": [],
   "source": [
    "cache = DiskCache(dataset, root=\"/tmp/ucla\")\n",
    "\n",
    "def list_temp_dir():\n",
    "    tmp_dir = os.listdir(\"/tmp/ucla\")[0]\n",
    "    os.listdir(os.path.join(\"/tmp/ucla\", tmp_dir))[:10]\n",
    "\n",
    "list_temp_dir()\n",
    "cache[0]\n",
    "list_temp_dir()\n",
    "\n",
    "for x, y in cache:\n",
    "    pass\n",
    "\n",
    "list_temp_dir()"
   ]
  },
  {
   "cell_type": "markdown",
   "id": "3e597771-8f80-4674-862e-c396918805e3",
   "metadata": {},
   "source": [
    "## Add augmentations for training"
   ]
  },
  {
   "cell_type": "code",
   "execution_count": null,
   "id": "218c3378-1877-4a7a-83c9-d47bd5ba50c2",
   "metadata": {},
   "outputs": [],
   "source": [
    "dataset = Apply(cache,\n",
    "transform = T.Compose(\n",
    "        [\n",
    "            T.SampleFrames(num_frames=20),\n",
    "            T.RandomRotate(degrees=17),\n",
    "            T.PadFrames(max_frames=20),\n",
    "        ]\n",
    "    ))"
   ]
  }
 ],
 "metadata": {
  "kernelspec": {
   "display_name": "Python 3 (ipykernel)",
   "language": "python",
   "name": "python3"
  },
  "language_info": {
   "codemirror_mode": {
    "name": "ipython",
    "version": 3
   },
   "file_extension": ".py",
   "mimetype": "text/x-python",
   "name": "python",
   "nbconvert_exporter": "python",
   "pygments_lexer": "ipython3",
   "version": "3.8.13"
  }
 },
 "nbformat": 4,
 "nbformat_minor": 5
}
